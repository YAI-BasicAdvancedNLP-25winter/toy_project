{
 "cells": [
  {
   "cell_type": "markdown",
   "metadata": {},
   "source": [
    "# EDA"
   ]
  },
  {
   "cell_type": "markdown",
   "metadata": {},
   "source": [
    "\"title\", \"date\", \"subject\" 는 필요없지 않을까?"
   ]
  },
  {
   "cell_type": "markdown",
   "metadata": {},
   "source": [
    "## import module"
   ]
  },
  {
   "cell_type": "markdown",
   "metadata": {},
   "source": [
    "- `regex` : 정규식 다루는 모듈\n",
    "- `stopwords` : 조사, 대명사 등 의미가 없는 단어를 제거해주는 모듈\n",
    "- `PorterStemmer` : 동사의 활용(ex: plays, played, playing)에서 어간(stem) 부분만 추출해주는 모듈\n",
    "- `TfidVectorizer` : 문서 → 벡터로 바꿔주는 모듈(`CountVectorizer` 에서 개선된 형태)\n"
   ]
  },
  {
   "cell_type": "code",
   "execution_count": null,
   "metadata": {},
   "outputs": [
    {
     "name": "stderr",
     "output_type": "stream",
     "text": [
      "c:\\python\\lib\\site-packages\\pandas\\core\\computation\\expressions.py:21: UserWarning: Pandas requires version '2.8.4' or newer of 'numexpr' (version '2.7.3' currently installed).\n",
      "  from pandas.core.computation.check import NUMEXPR_INSTALLED\n",
      "c:\\python\\lib\\site-packages\\pandas\\core\\arrays\\masked.py:60: UserWarning: Pandas requires version '1.3.6' or newer of 'bottleneck' (version '1.3.2' currently installed).\n",
      "  from pandas.core import (\n",
      "c:\\python\\lib\\site-packages\\scipy\\__init__.py:146: UserWarning: A NumPy version >=1.16.5 and <1.23.0 is required for this version of SciPy (detected version 1.26.4\n",
      "  warnings.warn(f\"A NumPy version >={np_minversion} and <{np_maxversion}\"\n"
     ]
    }
   ],
   "source": [
    "import numpy as np # use to calculate the matrix\n",
    "import pandas as pd # use to read dataset\n",
    "import matplotlib.pyplot as plt # draws a graph\n",
    "import seaborn as sns # also draws a graph\n",
    "from sklearn.model_selection import train_test_split # Data is separated into train and test set\n",
    "import regex as re # a regular expression operations\n",
    "from nltk.corpus import stopwords # remove stopwords\n",
    "from nltk.stem.porter import PorterStemmer # extract the stem of a word\n",
    "from sklearn.feature_extraction.text import TfidfVectorizer # word -> vector\n",
    "\n",
    "import os\n",
    "for dirname, _, filenames in os.walk('/kaggle/input'):\n",
    "    for filename in filenames:\n",
    "        print(os.path.join(dirname, filename))"
   ]
  },
  {
   "cell_type": "markdown",
   "metadata": {},
   "source": [
    "## Data load"
   ]
  },
  {
   "cell_type": "code",
   "execution_count": 4,
   "metadata": {},
   "outputs": [],
   "source": [
    "# pd.read_csv 를 이용하여 입력을 받아줌\n",
    "real = pd.read_csv(r\".\\News _dataset\\True.csv\")\n",
    "fake = pd.read_csv(r\".\\News _dataset\\Fake.csv\")"
   ]
  },
  {
   "cell_type": "code",
   "execution_count": 5,
   "metadata": {},
   "outputs": [
    {
     "data": {
      "text/plain": [
       "Index(['title', 'text', 'subject', 'date'], dtype='object')"
      ]
     },
     "execution_count": 5,
     "metadata": {},
     "output_type": "execute_result"
    }
   ],
   "source": [
    "real.columns"
   ]
  },
  {
   "cell_type": "markdown",
   "metadata": {},
   "source": [
    "- Columns: ‘title’, ‘text’, ‘subject’, ‘date’ → ‘target’ column추가(real = 1, fake = 0)\n"
   ]
  },
  {
   "cell_type": "code",
   "execution_count": null,
   "metadata": {},
   "outputs": [],
   "source": [
    "real['target'] = 1\n",
    "fake['target'] = 0\n",
    "\n",
    "data = pd.concat([real, fake], ignore_index = True)\n",
    "data = data.sample(frac = 1, random_state = 42).reset_index(drop = True) # 무작위로 순서를 뒤집음"
   ]
  },
  {
   "cell_type": "markdown",
   "metadata": {},
   "source": [
    "- data.sample 를 활용하여 무작위로 순서를 뒤집음"
   ]
  },
  {
   "cell_type": "code",
   "execution_count": 7,
   "metadata": {},
   "outputs": [
    {
     "data": {
      "text/html": [
       "<div>\n",
       "<style scoped>\n",
       "    .dataframe tbody tr th:only-of-type {\n",
       "        vertical-align: middle;\n",
       "    }\n",
       "\n",
       "    .dataframe tbody tr th {\n",
       "        vertical-align: top;\n",
       "    }\n",
       "\n",
       "    .dataframe thead th {\n",
       "        text-align: right;\n",
       "    }\n",
       "</style>\n",
       "<table border=\"1\" class=\"dataframe\">\n",
       "  <thead>\n",
       "    <tr style=\"text-align: right;\">\n",
       "      <th></th>\n",
       "      <th>title</th>\n",
       "      <th>text</th>\n",
       "      <th>subject</th>\n",
       "      <th>date</th>\n",
       "      <th>target</th>\n",
       "    </tr>\n",
       "  </thead>\n",
       "  <tbody>\n",
       "    <tr>\n",
       "      <th>0</th>\n",
       "      <td>BREAKING: GOP Chairman Grassley Has Had Enoug...</td>\n",
       "      <td>Donald Trump s White House is in chaos, and th...</td>\n",
       "      <td>News</td>\n",
       "      <td>July 21, 2017</td>\n",
       "      <td>0</td>\n",
       "    </tr>\n",
       "    <tr>\n",
       "      <th>1</th>\n",
       "      <td>Failed GOP Candidates Remembered In Hilarious...</td>\n",
       "      <td>Now that Donald Trump is the presumptive GOP n...</td>\n",
       "      <td>News</td>\n",
       "      <td>May 7, 2016</td>\n",
       "      <td>0</td>\n",
       "    </tr>\n",
       "    <tr>\n",
       "      <th>2</th>\n",
       "      <td>Mike Pence’s New DC Neighbors Are HILARIOUSLY...</td>\n",
       "      <td>Mike Pence is a huge homophobe. He supports ex...</td>\n",
       "      <td>News</td>\n",
       "      <td>December 3, 2016</td>\n",
       "      <td>0</td>\n",
       "    </tr>\n",
       "    <tr>\n",
       "      <th>3</th>\n",
       "      <td>California AG pledges to defend birth control ...</td>\n",
       "      <td>SAN FRANCISCO (Reuters) - California Attorney ...</td>\n",
       "      <td>politicsNews</td>\n",
       "      <td>October 6, 2017</td>\n",
       "      <td>1</td>\n",
       "    </tr>\n",
       "    <tr>\n",
       "      <th>4</th>\n",
       "      <td>AZ RANCHERS Living On US-Mexico Border Destroy...</td>\n",
       "      <td>Twisted reasoning is all that comes from Pelos...</td>\n",
       "      <td>politics</td>\n",
       "      <td>Apr 25, 2017</td>\n",
       "      <td>0</td>\n",
       "    </tr>\n",
       "  </tbody>\n",
       "</table>\n",
       "</div>"
      ],
      "text/plain": [
       "                                               title  \\\n",
       "0   BREAKING: GOP Chairman Grassley Has Had Enoug...   \n",
       "1   Failed GOP Candidates Remembered In Hilarious...   \n",
       "2   Mike Pence’s New DC Neighbors Are HILARIOUSLY...   \n",
       "3  California AG pledges to defend birth control ...   \n",
       "4  AZ RANCHERS Living On US-Mexico Border Destroy...   \n",
       "\n",
       "                                                text       subject  \\\n",
       "0  Donald Trump s White House is in chaos, and th...          News   \n",
       "1  Now that Donald Trump is the presumptive GOP n...          News   \n",
       "2  Mike Pence is a huge homophobe. He supports ex...          News   \n",
       "3  SAN FRANCISCO (Reuters) - California Attorney ...  politicsNews   \n",
       "4  Twisted reasoning is all that comes from Pelos...      politics   \n",
       "\n",
       "               date  target  \n",
       "0     July 21, 2017       0  \n",
       "1       May 7, 2016       0  \n",
       "2  December 3, 2016       0  \n",
       "3  October 6, 2017        1  \n",
       "4      Apr 25, 2017       0  "
      ]
     },
     "metadata": {},
     "output_type": "display_data"
    },
    {
     "name": "stdout",
     "output_type": "stream",
     "text": [
      "shape (44898, 5)\n",
      "----------------------------------------\n"
     ]
    },
    {
     "data": {
      "text/plain": [
       "title      object\n",
       "text       object\n",
       "subject    object\n",
       "date       object\n",
       "target      int64\n",
       "dtype: object"
      ]
     },
     "metadata": {},
     "output_type": "display_data"
    },
    {
     "name": "stdout",
     "output_type": "stream",
     "text": [
      "----------------------------------------\n"
     ]
    },
    {
     "data": {
      "text/plain": [
       "title      0\n",
       "text       0\n",
       "subject    0\n",
       "date       0\n",
       "target     0\n",
       "dtype: int64"
      ]
     },
     "metadata": {},
     "output_type": "display_data"
    }
   ],
   "source": [
    "display(data.head())\n",
    "\n",
    "print(\"shape\", data.shape)\n",
    "print('-' * 40)\n",
    "display(data.dtypes)\n",
    "print('-' * 40)\n",
    "\n",
    "display(data.isna().sum())"
   ]
  },
  {
   "cell_type": "markdown",
   "metadata": {},
   "source": [
    "- `Shape = (44898, 5)`\n",
    "- null 값이 존재하지 않음 → 채워줄 필요 없음"
   ]
  },
  {
   "cell_type": "markdown",
   "metadata": {},
   "source": [
    "## EDA"
   ]
  },
  {
   "cell_type": "markdown",
   "metadata": {},
   "source": [
    "Real, Fake ratio"
   ]
  },
  {
   "cell_type": "code",
   "execution_count": 8,
   "metadata": {},
   "outputs": [
    {
     "data": {
      "text/plain": [
       "<AxesSubplot:ylabel='count'>"
      ]
     },
     "execution_count": 8,
     "metadata": {},
     "output_type": "execute_result"
    },
    {
     "data": {
      "image/png": "[encoded data removed]",
      "text/plain": [
       "<Figure size 432x288 with 1 Axes>"
      ]
     },
     "metadata": {},
     "output_type": "display_data"
    }
   ],
   "source": [
    "data['target'].value_counts().plot.pie(autopct = \"%1.1f%%\")"
   ]
  },
  {
   "cell_type": "markdown",
   "metadata": {},
   "source": [
    "Fake: 52.3%, Real: 47.7%"
   ]
  },
  {
   "cell_type": "markdown",
   "metadata": {},
   "source": [
    "### subject"
   ]
  },
  {
   "cell_type": "markdown",
   "metadata": {},
   "source": [
    "subject EDA"
   ]
  },
  {
   "cell_type": "code",
   "execution_count": 9,
   "metadata": {},
   "outputs": [
    {
     "data": {
      "text/plain": [
       "<AxesSubplot:ylabel='count'>"
      ]
     },
     "execution_count": 9,
     "metadata": {},
     "output_type": "execute_result"
    },
    {
     "data": {
      "image/png": "[encoded data removed]",
      "text/plain": [
       "<Figure size 432x432 with 1 Axes>"
      ]
     },
     "metadata": {},
     "output_type": "display_data"
    }
   ],
   "source": [
    "sns.set_style(\"whitegrid\")\n",
    "plt.figure(figsize = (6, 6))\n",
    "data['subject'].value_counts().plot.pie(autopct = \"%1.1f%%\")"
   ]
  },
  {
   "cell_type": "markdown",
   "metadata": {},
   "source": [
    "politicsNews와 politics는 동일한 카테고리로 봐도 무방할 듯 \n",
    "→ 하나의 카테고리 “PoliticsNews”로 합치기"
   ]
  },
  {
   "cell_type": "code",
   "execution_count": 11,
   "metadata": {},
   "outputs": [
    {
     "data": {
      "text/plain": [
       "<AxesSubplot:ylabel='count'>"
      ]
     },
     "execution_count": 11,
     "metadata": {},
     "output_type": "execute_result"
    },
    {
     "data": {
      "image/png": "[encoded data removed]",
      "text/plain": [
       "<Figure size 432x432 with 1 Axes>"
      ]
     },
     "metadata": {},
     "output_type": "display_data"
    }
   ],
   "source": [
    "data[\"subject\"]=data[\"subject\"].replace({'politics':'PoliticsNews','politicsNews':'PoliticsNews'})\n",
    "sns.set_style(\"whitegrid\")\n",
    "plt.figure(figsize = (6, 6))\n",
    "data['subject'].value_counts().plot.pie(autopct = \"%1.1f%%\")"
   ]
  },
  {
   "cell_type": "markdown",
   "metadata": {},
   "source": [
    "- Fake News와 Real News의 주제 비율을 각각 알아보겠다."
   ]
  },
  {
   "cell_type": "markdown",
   "metadata": {},
   "source": [
    "Fake News Subject"
   ]
  },
  {
   "cell_type": "code",
   "execution_count": 12,
   "metadata": {},
   "outputs": [
    {
     "name": "stdout",
     "output_type": "stream",
     "text": [
      "           subject  count\n",
      "2             News   9050\n",
      "3     PoliticsNews   6841\n",
      "5        left-news   4459\n",
      "0  Government News   1570\n",
      "4          US_News    783\n",
      "1      Middle-east    778\n"
     ]
    }
   ],
   "source": [
    "rs1 = data[data['target'] == 0].groupby(['subject'], as_index = False).size()\n",
    "rs1 = rs1.rename(columns = {\"size\": \"count\"}).sort_values(by = 'count', ascending = False)\n",
    "print(rs1)"
   ]
  },
  {
   "cell_type": "code",
   "execution_count": 13,
   "metadata": {},
   "outputs": [
    {
     "data": {
      "text/plain": [
       "Text(0, 0.5, '')"
      ]
     },
     "execution_count": 13,
     "metadata": {},
     "output_type": "execute_result"
    },
    {
     "data": {
      "image/png": "[encoded data removed]",
      "text/plain": [
       "<Figure size 432x432 with 1 Axes>"
      ]
     },
     "metadata": {},
     "output_type": "display_data"
    }
   ],
   "source": [
    "plt.figure(figsize = (6, 6))\n",
    "data[data['target'] == 0]['subject'].value_counts().plot.pie(autopct = \"%1.1f%%\")\n",
    "plt.ylabel(None)"
   ]
  },
  {
   "cell_type": "markdown",
   "metadata": {},
   "source": [
    "1. News: 38.5%\n",
    "2. PoliticsNews: 29.1%\n",
    "3. left-news: 19.0%"
   ]
  },
  {
   "cell_type": "markdown",
   "metadata": {},
   "source": [
    "Real News Subject"
   ]
  },
  {
   "cell_type": "code",
   "execution_count": 14,
   "metadata": {},
   "outputs": [
    {
     "name": "stdout",
     "output_type": "stream",
     "text": [
      "        subject  count\n",
      "0  PoliticsNews  11272\n",
      "1     worldnews  10145\n"
     ]
    }
   ],
   "source": [
    "rs2 = data[data['target'] == 1].groupby(['subject'], as_index = False).size()\n",
    "rs2 = rs2.rename(columns = {\"size\": \"count\"}).sort_values(by = 'count', ascending = False)\n",
    "print(rs2)"
   ]
  },
  {
   "cell_type": "code",
   "execution_count": 15,
   "metadata": {},
   "outputs": [
    {
     "data": {
      "text/plain": [
       "Text(0, 0.5, '')"
      ]
     },
     "execution_count": 15,
     "metadata": {},
     "output_type": "execute_result"
    },
    {
     "data": {
      "image/png": "[encoded data removed]",
      "text/plain": [
       "<Figure size 432x432 with 1 Axes>"
      ]
     },
     "metadata": {},
     "output_type": "display_data"
    }
   ],
   "source": [
    "plt.figure(figsize = (6, 6))\n",
    "data[data['target'] == 1]['subject'].value_counts().plot.pie(autopct = \"%1.1f%%\")\n",
    "plt.ylabel(None)"
   ]
  },
  {
   "cell_type": "markdown",
   "metadata": {},
   "source": [
    "1. PoliticsNews = 52.6%\n",
    "2. worldnews = 47.4%\n",
    "\n",
    "두 subject를 한번에 그리면 다음과 같은 막대 그래프가 나온다."
   ]
  },
  {
   "cell_type": "code",
   "execution_count": 16,
   "metadata": {},
   "outputs": [
    {
     "data": {
      "image/png": "[encoded data removed]",
      "text/plain": [
       "<Figure size 1080x432 with 2 Axes>"
      ]
     },
     "metadata": {},
     "output_type": "display_data"
    }
   ],
   "source": [
    "fig, axs = plt.subplots(1, 2, figsize = (15, 6))\n",
    "\n",
    "# Fake news \n",
    "sns.barplot(ax = axs[0], x = 'count', y = 'subject', data = rs1)\n",
    "axs[0].set_xlabel('Count')\n",
    "axs[0].set_xlabel('Subject')\n",
    "\n",
    "# Read news \n",
    "sns.barplot(ax = axs[1], x = 'count', y = 'subject', data = rs2)\n",
    "axs[1].set_xlabel('Count')\n",
    "axs[1].set_xlabel('Subject')\n",
    "\n",
    "plt.tight_layout() # 여백 조정\n",
    "plt.show()"
   ]
  },
  {
   "cell_type": "markdown",
   "metadata": {},
   "source": [
    "\"Subject\" 는 모델을 overfitting하게 될 영향이 있음 → 제거 필요"
   ]
  },
  {
   "cell_type": "markdown",
   "metadata": {},
   "source": [
    "### title"
   ]
  },
  {
   "cell_type": "markdown",
   "metadata": {},
   "source": [
    "`\\w+` : 한 개 이상의 알파벳 또는 숫자\n",
    "\n",
    "`\\s+` : 1개 이상의 공백 단위로 쪼개기\n",
    "\n",
    "`r` : raw string → \\를 탈출 문자로 보지않고 그냥 문자로 보겠다\n",
    "\n",
    "`RegexpTokenizer` : 정규표현식을 넣어서 토큰화 진행 \n",
    "→ `tokenizer.tokenize` 를 사용해서 token단위로 분해"
   ]
  },
  {
   "cell_type": "code",
   "execution_count": 17,
   "metadata": {},
   "outputs": [
    {
     "name": "stdout",
     "output_type": "stream",
     "text": [
      "0         BREAKING: GOP Chairman Grassley Has Had Enoug...\n",
      "1         Failed GOP Candidates Remembered In Hilarious...\n",
      "2         Mike Pence’s New DC Neighbors Are HILARIOUSLY...\n",
      "3        California AG pledges to defend birth control ...\n",
      "4        AZ RANCHERS Living On US-Mexico Border Destroy...\n",
      "                               ...                        \n",
      "44893    Nigeria says U.S. agrees delayed $593 million ...\n",
      "44894                    Boiler Room #62 – Fatal Illusions\n",
      "44895    ATHEISTS SUE GOVERNOR OF TEXAS Over Display on...\n",
      "44896    Republican tax plan would deal financial hit t...\n",
      "44897    U.N. refugee commissioner says Australia must ...\n",
      "Name: title, Length: 44898, dtype: object\n"
     ]
    }
   ],
   "source": [
    "print(data[\"title\"])"
   ]
  },
  {
   "cell_type": "code",
   "execution_count": 18,
   "metadata": {},
   "outputs": [
    {
     "name": "stdout",
     "output_type": "stream",
     "text": [
      "0        [BREAKING, GOP, Chairman, Grassley, Has, Had, ...\n",
      "1        [Failed, GOP, Candidates, Remembered, In, Hila...\n",
      "2        [Mike, Pence, s, New, DC, Neighbors, Are, HILA...\n",
      "3        [California, AG, pledges, to, defend, birth, c...\n",
      "4        [AZ, RANCHERS, Living, On, US, Mexico, Border,...\n",
      "                               ...                        \n",
      "44893    [Nigeria, says, U, S, agrees, delayed, 593, mi...\n",
      "44894                 [Boiler, Room, 62, Fatal, Illusions]\n",
      "44895    [ATHEISTS, SUE, GOVERNOR, OF, TEXAS, Over, Dis...\n",
      "44896    [Republican, tax, plan, would, deal, financial...\n",
      "44897    [U, N, refugee, commissioner, says, Australia,...\n",
      "Name: n_words_in_title, Length: 44898, dtype: object\n"
     ]
    }
   ],
   "source": [
    "import nltk\n",
    "df = pd.DataFrame()\n",
    "def count_words(column):\n",
    "    tokenizer = nltk.RegexpTokenizer(r\"\\w+\")\n",
    "    new_words = tokenizer.tokenize(column)\n",
    "    return new_words\n",
    "\n",
    "df[\"n_words_in_title\"] = data[\"title\"].apply(count_words)\n",
    "print(df[\"n_words_in_title\"])"
   ]
  },
  {
   "cell_type": "markdown",
   "metadata": {},
   "source": [
    "- tokenizer를 이용해서 문장을 word 단위로 쪼개었다.\n",
    "\n",
    "- 각 title, text의 word를 계산해주는 함수이다."
   ]
  },
  {
   "cell_type": "code",
   "execution_count": 19,
   "metadata": {},
   "outputs": [],
   "source": [
    "import nltk\n",
    "df = pd.DataFrame()\n",
    "def count_words(column):\n",
    "    tokenizer = nltk.RegexpTokenizer(r\"\\w+\")\n",
    "    new_words = tokenizer.tokenize(column)\n",
    "    return len(new_words)\n",
    "\n",
    "df[\"n_words_in_title\"]=data[\"title\"].apply(count_words)\n",
    "df[\"n_words_in_text\"]=data[\"text\"].apply(count_words)\n",
    "df['target']=data['target']"
   ]
  },
  {
   "cell_type": "code",
   "execution_count": null,
   "metadata": {},
   "outputs": [
    {
     "data": {
      "text/plain": [
       "<AxesSubplot:title={'center':'Number of words in the title'}, xlabel='target', ylabel='n_words_in_title'>"
      ]
     },
     "execution_count": 20,
     "metadata": {},
     "output_type": "execute_result"
    },
    {
     "data": {
      "image/png": "[encoded data removed]",
      "text/plain": [
       "<Figure size 432x360 with 1 Axes>"
      ]
     },
     "metadata": {},
     "output_type": "display_data"
    }
   ],
   "source": [
    "fig = plt.figure(figsize = (6, 5))\n",
    "plt.title(\"Number of words in the title\")\n",
    "sns.boxplot(data = df, x = 'target', y = 'n_words_in_title', showfliers = False, width = 0.4)"
   ]
  },
  {
   "cell_type": "code",
   "execution_count": 22,
   "metadata": {},
   "outputs": [
    {
     "data": {
      "text/plain": [
       "<AxesSubplot:title={'center':'Number of words in the text'}, xlabel='target', ylabel='n_words_in_text'>"
      ]
     },
     "execution_count": 22,
     "metadata": {},
     "output_type": "execute_result"
    },
    {
     "data": {
      "image/png": "[encoded data removed]",
      "text/plain": [
       "<Figure size 432x360 with 1 Axes>"
      ]
     },
     "metadata": {},
     "output_type": "display_data"
    }
   ],
   "source": [
    "fig = plt.figure(figsize = (6, 5))\n",
    "plt.title(\"Number of words in the text\")\n",
    "sns.boxplot(data = df, x = 'target', y = 'n_words_in_text', showfliers = False, width = 0.4)"
   ]
  },
  {
   "cell_type": "markdown",
   "metadata": {},
   "source": [
    "text에 비해 title의 길이가 매우 작으므로 text와 title을 합쳐서 데이터 셋을 관리할 것이다."
   ]
  },
  {
   "cell_type": "markdown",
   "metadata": {},
   "source": [
    "### Summary"
   ]
  },
  {
   "cell_type": "markdown",
   "metadata": {},
   "source": [
    "- `Shape = (44898, 5)`\n",
    "- There is no missing values\n",
    "- Fake: 52.3%, Real: 47.7% → 5:5\n",
    "- `\"title\"` + `\"text\"` → `\"text\"` 로 사용\n",
    "- `\"date\", \"subject\"` → 필요없음."
   ]
  },
  {
   "cell_type": "markdown",
   "metadata": {},
   "source": [
    "# Data preprocessing"
   ]
  },
  {
   "cell_type": "markdown",
   "metadata": {},
   "source": [
    "## Preprocessing"
   ]
  },
  {
   "cell_type": "code",
   "execution_count": 23,
   "metadata": {},
   "outputs": [
    {
     "data": {
      "text/html": [
       "<div>\n",
       "<style scoped>\n",
       "    .dataframe tbody tr th:only-of-type {\n",
       "        vertical-align: middle;\n",
       "    }\n",
       "\n",
       "    .dataframe tbody tr th {\n",
       "        vertical-align: top;\n",
       "    }\n",
       "\n",
       "    .dataframe thead th {\n",
       "        text-align: right;\n",
       "    }\n",
       "</style>\n",
       "<table border=\"1\" class=\"dataframe\">\n",
       "  <thead>\n",
       "    <tr style=\"text-align: right;\">\n",
       "      <th></th>\n",
       "      <th>title</th>\n",
       "      <th>text</th>\n",
       "      <th>target</th>\n",
       "    </tr>\n",
       "  </thead>\n",
       "  <tbody>\n",
       "    <tr>\n",
       "      <th>0</th>\n",
       "      <td>BREAKING: GOP Chairman Grassley Has Had Enoug...</td>\n",
       "      <td>BREAKING: GOP Chairman Grassley Has Had Enoug...</td>\n",
       "      <td>0</td>\n",
       "    </tr>\n",
       "    <tr>\n",
       "      <th>1</th>\n",
       "      <td>Failed GOP Candidates Remembered In Hilarious...</td>\n",
       "      <td>Failed GOP Candidates Remembered In Hilarious...</td>\n",
       "      <td>0</td>\n",
       "    </tr>\n",
       "    <tr>\n",
       "      <th>2</th>\n",
       "      <td>Mike Pence’s New DC Neighbors Are HILARIOUSLY...</td>\n",
       "      <td>Mike Pence’s New DC Neighbors Are HILARIOUSLY...</td>\n",
       "      <td>0</td>\n",
       "    </tr>\n",
       "    <tr>\n",
       "      <th>3</th>\n",
       "      <td>California AG pledges to defend birth control ...</td>\n",
       "      <td>California AG pledges to defend birth control ...</td>\n",
       "      <td>1</td>\n",
       "    </tr>\n",
       "    <tr>\n",
       "      <th>4</th>\n",
       "      <td>AZ RANCHERS Living On US-Mexico Border Destroy...</td>\n",
       "      <td>AZ RANCHERS Living On US-Mexico Border Destroy...</td>\n",
       "      <td>0</td>\n",
       "    </tr>\n",
       "    <tr>\n",
       "      <th>...</th>\n",
       "      <td>...</td>\n",
       "      <td>...</td>\n",
       "      <td>...</td>\n",
       "    </tr>\n",
       "    <tr>\n",
       "      <th>44893</th>\n",
       "      <td>Nigeria says U.S. agrees delayed $593 million ...</td>\n",
       "      <td>Nigeria says U.S. agrees delayed $593 million ...</td>\n",
       "      <td>1</td>\n",
       "    </tr>\n",
       "    <tr>\n",
       "      <th>44894</th>\n",
       "      <td>Boiler Room #62 – Fatal Illusions</td>\n",
       "      <td>Boiler Room #62 – Fatal Illusions Tune in to t...</td>\n",
       "      <td>0</td>\n",
       "    </tr>\n",
       "    <tr>\n",
       "      <th>44895</th>\n",
       "      <td>ATHEISTS SUE GOVERNOR OF TEXAS Over Display on...</td>\n",
       "      <td>ATHEISTS SUE GOVERNOR OF TEXAS Over Display on...</td>\n",
       "      <td>0</td>\n",
       "    </tr>\n",
       "    <tr>\n",
       "      <th>44896</th>\n",
       "      <td>Republican tax plan would deal financial hit t...</td>\n",
       "      <td>Republican tax plan would deal financial hit t...</td>\n",
       "      <td>1</td>\n",
       "    </tr>\n",
       "    <tr>\n",
       "      <th>44897</th>\n",
       "      <td>U.N. refugee commissioner says Australia must ...</td>\n",
       "      <td>U.N. refugee commissioner says Australia must ...</td>\n",
       "      <td>1</td>\n",
       "    </tr>\n",
       "  </tbody>\n",
       "</table>\n",
       "<p>44898 rows × 3 columns</p>\n",
       "</div>"
      ],
      "text/plain": [
       "                                                   title  \\\n",
       "0       BREAKING: GOP Chairman Grassley Has Had Enoug...   \n",
       "1       Failed GOP Candidates Remembered In Hilarious...   \n",
       "2       Mike Pence’s New DC Neighbors Are HILARIOUSLY...   \n",
       "3      California AG pledges to defend birth control ...   \n",
       "4      AZ RANCHERS Living On US-Mexico Border Destroy...   \n",
       "...                                                  ...   \n",
       "44893  Nigeria says U.S. agrees delayed $593 million ...   \n",
       "44894                  Boiler Room #62 – Fatal Illusions   \n",
       "44895  ATHEISTS SUE GOVERNOR OF TEXAS Over Display on...   \n",
       "44896  Republican tax plan would deal financial hit t...   \n",
       "44897  U.N. refugee commissioner says Australia must ...   \n",
       "\n",
       "                                                    text  target  \n",
       "0       BREAKING: GOP Chairman Grassley Has Had Enoug...       0  \n",
       "1       Failed GOP Candidates Remembered In Hilarious...       0  \n",
       "2       Mike Pence’s New DC Neighbors Are HILARIOUSLY...       0  \n",
       "3      California AG pledges to defend birth control ...       1  \n",
       "4      AZ RANCHERS Living On US-Mexico Border Destroy...       0  \n",
       "...                                                  ...     ...  \n",
       "44893  Nigeria says U.S. agrees delayed $593 million ...       1  \n",
       "44894  Boiler Room #62 – Fatal Illusions Tune in to t...       0  \n",
       "44895  ATHEISTS SUE GOVERNOR OF TEXAS Over Display on...       0  \n",
       "44896  Republican tax plan would deal financial hit t...       1  \n",
       "44897  U.N. refugee commissioner says Australia must ...       1  \n",
       "\n",
       "[44898 rows x 3 columns]"
      ]
     },
     "execution_count": 23,
     "metadata": {},
     "output_type": "execute_result"
    }
   ],
   "source": [
    "data = data.drop(columns = [\"date\", \"subject\"])\n",
    "data['text'] = data['title'] + \" \" + data['text']\n",
    "data"
   ]
  },
  {
   "cell_type": "markdown",
   "metadata": {},
   "source": [
    "- title + text → text\n",
    "- 나머지 필요없는 column들은 모두 제거\n",
    "\n",
    "- `[]` : 한 개의 문자\n",
    "- 대문자로 `W`를 쓰면 `\\w`가 아닌 문자열만 선택\n",
    "- `*` :0회 이상 반복\n",
    "- `\\\\W` 의 의미"
   ]
  },
  {
   "cell_type": "code",
   "execution_count": 24,
   "metadata": {},
   "outputs": [
    {
     "data": {
      "text/plain": [
       "'I am  '"
      ]
     },
     "execution_count": 24,
     "metadata": {},
     "output_type": "execute_result"
    }
   ],
   "source": [
    "text = \"I am @\"\n",
    "text = re.sub(\"\\\\W\", \" \", text)\n",
    "text"
   ]
  },
  {
   "cell_type": "markdown",
   "metadata": {},
   "source": [
    "### text preprocessing\n",
    "\n",
    "1. 소문자로 변환\n",
    "2. `.*?\\` 문자 → text 제거\n",
    "3. `\\\\W`:영어 x → 공백으로 변환\n",
    "4. URL 제거\n",
    "5. HTML 제거\n",
    "6. 구두점 제거\n",
    "7. 숫자가 포함된 문자 제거"
   ]
  },
  {
   "cell_type": "code",
   "execution_count": 26,
   "metadata": {},
   "outputs": [],
   "source": [
    "import re  # Import the regular expressions module\n",
    "import string  # Import the string module containing punctuation\n",
    "\n",
    "def wordopt(text):\n",
    "    # Convert the entire text to lowercase\n",
    "    text = text.lower()\n",
    "\n",
    "    # Remove text within square brackets, including the brackets\n",
    "    text = re.sub('\\[.*?\\]', '', text)\n",
    "\n",
    "    # Replace all non-alphabetic characters with a space\n",
    "    text = re.sub(\"\\\\W\", \" \", text)\n",
    "\n",
    "    # Remove URLs\n",
    "    text = re.sub('https?://\\S+|www\\.\\S+', '', text)\n",
    "\n",
    "    # Remove HTML tags\n",
    "    text = re.sub('<.*?>', '', text)\n",
    "\n",
    "    # Remove punctuation\n",
    "    text = re.sub('[%s]' % re.escape(string.punctuation), '', text)\n",
    "\n",
    "    # Remove words containing digits\n",
    "    text = re.sub('\\w*\\d\\w*', '', text)\n",
    "\n",
    "    return text  # Return the preprocessed text"
   ]
  },
  {
   "cell_type": "code",
   "execution_count": 27,
   "metadata": {},
   "outputs": [
    {
     "data": {
      "text/plain": [
       "0         breaking  gop chairman grassley has had enoug...\n",
       "1         failed gop candidates remembered in hilarious...\n",
       "2         mike pence s new dc neighbors are hilariously...\n",
       "3        california ag pledges to defend birth control ...\n",
       "4        az ranchers living on us mexico border destroy...\n",
       "                               ...                        \n",
       "44893    nigeria says u s  agrees delayed   million fig...\n",
       "44894    boiler room     fatal illusions tune in to the...\n",
       "44895    atheists sue governor of texas over display on...\n",
       "44896    republican tax plan would deal financial hit t...\n",
       "44897    u n  refugee commissioner says australia must ...\n",
       "Name: text, Length: 44898, dtype: object"
      ]
     },
     "execution_count": 27,
     "metadata": {},
     "output_type": "execute_result"
    }
   ],
   "source": [
    "data['text'] = data['text'].apply(wordopt)\n",
    "data['text']"
   ]
  },
  {
   "cell_type": "markdown",
   "metadata": {},
   "source": [
    "- 데이터 전처리 완료"
   ]
  },
  {
   "cell_type": "markdown",
   "metadata": {},
   "source": [
    "### 의문점\n",
    "\n",
    "- 숫자가 포함된 문자를 없애야 할까? → 돈, 방번호 등 꼭 제거되어야 하는 문자인가?\n",
    "- stopword 제거는 언제 적용할 수 있을까?\n",
    "- 이 데이터 셋이 가지는 패턴: True → “(Reuters)” / Fake → via #### Images(이미지 링크로 글이 끝남) 뉴스의 내용이 아니라 이러한 패턴으로 모델이 분류할 수 있지 않을까?"
   ]
  },
  {
   "cell_type": "markdown",
   "metadata": {},
   "source": [
    "### Vectorization"
   ]
  },
  {
   "cell_type": "markdown",
   "metadata": {},
   "source": [
    "- Shape = (44898, 5) → Train: 70%, Test: 30%"
   ]
  },
  {
   "cell_type": "code",
   "execution_count": 28,
   "metadata": {},
   "outputs": [
    {
     "name": "stdout",
     "output_type": "stream",
     "text": [
      "X_train shape:  (31428,)\n",
      "Y_train shape:  (31428,)\n",
      "X_test shape:  (13470,)\n",
      "Y_test shape:  (13470,)\n"
     ]
    }
   ],
   "source": [
    "# train_test split\n",
    "X_train, X_test, Y_train, Y_test = train_test_split(data['text'], data['target'], test_size = 0.3)\n",
    "print(\"X_train shape: \", X_train.shape)\n",
    "print(\"Y_train shape: \", Y_train.shape)\n",
    "print(\"X_test shape: \", X_test.shape)\n",
    "print(\"Y_test shape: \", Y_test.shape)"
   ]
  },
  {
   "cell_type": "markdown",
   "metadata": {},
   "source": [
    "### TfidfVectorizer\n",
    "\n",
    "TfidfVectorizer: https://m.blog.naver.com/myincizor/221644893910\n",
    "\n",
    "TF: 단어 빈도, IDF: 문서 빈도의 역수"
   ]
  },
  {
   "cell_type": "code",
   "execution_count": 29,
   "metadata": {},
   "outputs": [
    {
     "data": {
      "text/plain": [
       "{'gop': 32522,\n",
       " 'senator': 73082,\n",
       " 'has': 34797,\n",
       " 'shockingly': 74277,\n",
       " 'irresponsible': 40298,\n",
       " 'response': 68563,\n",
       " 'to': 82719,\n",
       " 'news': 55685,\n",
       " 'of': 57710,\n",
       " 'russia': 70631,\n",
       " 'election': 24586,\n",
       " 'meddling': 50831,\n",
       " 'tweet': 84703,\n",
       " 'the': 81636,\n",
       " 'washington': 88883,\n",
       " 'post': 63078,\n",
       " 'dropped': 23345,\n",
       " 'bombshell': 9301,\n",
       " 'intelligence': 39646,\n",
       " 'revelation': 68848,\n",
       " 'on': 58094,\n",
       " 'us': 86746,\n",
       " 'all': 2285,\n",
       " 'friday': 30098,\n",
       " 'wanted': 88724,\n",
       " 'donald': 22721,\n",
       " 'trump': 84102,\n",
       " 'be': 7028,\n",
       " 'president': 63712,\n",
       " 'and': 3106,\n",
       " 'they': 81924,\n",
       " 'spent': 76951,\n",
       " 'entire': 25527,\n",
       " 'cycle': 18747,\n",
       " 'doing': 22607,\n",
       " 'could': 17450,\n",
       " 'get': 31540,\n",
       " 'him': 36091,\n",
       " 'elected': 24583,\n",
       " 'now': 56907,\n",
       " 'no': 56364,\n",
       " 'matter': 50143,\n",
       " 'which': 89680,\n",
       " 'candidate': 11916,\n",
       " 'kremlin': 44699,\n",
       " 'in': 38508,\n",
       " 'office': 57754,\n",
       " 'every': 26386,\n",
       " 'american': 2804,\n",
       " 'regardless': 67431,\n",
       " 'political': 62650,\n",
       " 'leanings': 45997,\n",
       " 'should': 74401,\n",
       " 'very': 87583,\n",
       " 'alarmed': 1963,\n",
       " 'that': 81609,\n",
       " 'hostile': 36898,\n",
       " 'foreign': 29435,\n",
       " 'power': 63256,\n",
       " 'had': 33987,\n",
       " 'its': 40580,\n",
       " 'hands': 34424,\n",
       " 'our': 58832,\n",
       " 'democratic': 20321,\n",
       " 'process': 64070,\n",
       " 'however': 37019,\n",
       " 'one': 58112,\n",
       " 'john': 41815,\n",
       " 'cornyn': 17236,\n",
       " 'tx': 84910,\n",
       " 'seems': 72872,\n",
       " 'think': 81977,\n",
       " 'since': 75015,\n",
       " 'it': 40524,\n",
       " 'was': 88866,\n",
       " 'his': 36197,\n",
       " 'vladimir': 88129,\n",
       " 'putin': 65081,\n",
       " 'thugs': 82215,\n",
       " 'successfully': 79014,\n",
       " 'got': 32617,\n",
       " 'into': 39912,\n",
       " 'this': 82020,\n",
       " 'story': 78380,\n",
       " 'is': 40327,\n",
       " 'much': 53890,\n",
       " 'ado': 1056,\n",
       " 'about': 345,\n",
       " 'nothing': 56802,\n",
       " 'tweeted': 84707,\n",
       " 'russian': 70641,\n",
       " 'hacking': 33975,\n",
       " 'been': 7229,\n",
       " 'going': 32318,\n",
       " 'for': 29371,\n",
       " 'years': 91442,\n",
       " 'serious': 73310,\n",
       " 'but': 11263,\n",
       " 'hardly': 34618,\n",
       " 'johncornyn': 41825,\n",
       " 'december': 19670,\n",
       " 'definitely': 19964,\n",
       " 'just': 42395,\n",
       " 'so': 76088,\n",
       " 'happens': 34527,\n",
       " 'you': 91691,\n",
       " 'didn': 21319,\n",
       " 'want': 88723,\n",
       " 'people': 60913,\n",
       " 'know': 44288,\n",
       " 'essentially': 26060,\n",
       " 'your': 91723,\n",
       " 'guy': 33840,\n",
       " 'with': 90356,\n",
       " 'help': 35485,\n",
       " 'guys': 33846,\n",
       " 'seem': 72867,\n",
       " 'fine': 28511,\n",
       " 'whatever': 89616,\n",
       " 'reason': 66687,\n",
       " 'not': 56767,\n",
       " 'as': 4519,\n",
       " 'friend': 30120,\n",
       " 'united': 86025,\n",
       " 'states': 77758,\n",
       " 'america': 2792,\n",
       " 'we': 89120,\n",
       " 'boy': 9773,\n",
       " 'love': 47832,\n",
       " 'suddenly': 79054,\n",
       " 'most': 53493,\n",
       " 'anti': 3534,\n",
       " 'republicans': 68303,\n",
       " 'are': 4151,\n",
       " 'ok': 57903,\n",
       " 'elections': 24593,\n",
       " 'ends': 25268,\n",
       " 'justify': 42415,\n",
       " 'means': 50773,\n",
       " 'right': 69262,\n",
       " 'need': 55300,\n",
       " 'wake': 88568,\n",
       " 'hell': 35441,\n",
       " 'up': 86547,\n",
       " 'literally': 47169,\n",
       " 'have': 34959,\n",
       " 'running': 70572,\n",
       " 'don': 22714,\n",
       " 'if': 37847,\n",
       " 'time': 82441,\n",
       " 'sir': 75117,\n",
       " 'find': 28502,\n",
       " 'new': 55646,\n",
       " 'job': 41735,\n",
       " 'featured': 27908,\n",
       " 'image': 38095,\n",
       " 'via': 87661,\n",
       " 'drew': 23251,\n",
       " 'angerer': 3248,\n",
       " 'getty': 31565,\n",
       " 'images': 38101,\n",
       " 'says': 71840,\n",
       " 'suspected': 79641,\n",
       " 'gunman': 33733,\n",
       " 'who': 89821,\n",
       " 'shot': 74392,\n",
       " 'at': 4926,\n",
       " 'lawmakers': 45829,\n",
       " 'dead': 19482,\n",
       " 'reuters': 68818,\n",
       " 'said': 71018,\n",
       " 'opened': 58243,\n",
       " 'fire': 28578,\n",
       " 'republican': 68299,\n",
       " 'wednesday': 89229,\n",
       " 'died': 21324,\n",
       " 'from': 30184,\n",
       " 'injuries': 39290,\n",
       " 'he': 35088,\n",
       " 'received': 66840,\n",
       " 'during': 23704,\n",
       " 'shooting': 74317,\n",
       " 'assailant': 4717,\n",
       " 'announced': 3408,\n",
       " 'white': 89753,\n",
       " 'house': 36969,\n",
       " 'pledges': 62312,\n",
       " 'move': 53660,\n",
       " 'quickly': 65496,\n",
       " 'name': 54728,\n",
       " 'fbi': 27822,\n",
       " 'director': 21627,\n",
       " 'lynchburg': 48270,\n",
       " 'va': 86957,\n",
       " 'saturday': 71711,\n",
       " 'will': 90016,\n",
       " 'nominate': 56467,\n",
       " 'after': 1403,\n",
       " 'sparked': 76773,\n",
       " 'firestorm': 28627,\n",
       " 'by': 11363,\n",
       " 'firing': 28635,\n",
       " 'man': 49077,\n",
       " 'investigating': 40047,\n",
       " 'possible': 63072,\n",
       " 'collusion': 15571,\n",
       " 'between': 7938,\n",
       " 'presidential': 63721,\n",
       " 'campaign': 11832,\n",
       " 'told': 82829,\n",
       " 'reporters': 68206,\n",
       " 'might': 51817,\n",
       " 'even': 26350,\n",
       " 'able': 283,\n",
       " 'make': 48838,\n",
       " 'decision': 19710,\n",
       " 'succeed': 79007,\n",
       " 'james': 40927,\n",
       " 'comey': 15737,\n",
       " 'lead': 45944,\n",
       " 'federal': 27929,\n",
       " 'bureau': 11069,\n",
       " 'investigation': 40048,\n",
       " 'before': 7251,\n",
       " 'leaves': 46041,\n",
       " 'first': 28651,\n",
       " 'trip': 83915,\n",
       " 'speaking': 76831,\n",
       " 'air': 1724,\n",
       " 'force': 29392,\n",
       " 'departing': 20517,\n",
       " 'virginia': 87985,\n",
       " 'where': 89660,\n",
       " 'delivered': 20188,\n",
       " 'commencement': 15810,\n",
       " 'address': 889,\n",
       " 'go': 32214,\n",
       " 'adding': 878,\n",
       " 'candidates': 11917,\n",
       " 'under': 85518,\n",
       " 'consideration': 16625,\n",
       " 'were': 89443,\n",
       " 'mostly': 53500,\n",
       " 'well': 89378,\n",
       " 'known': 44298,\n",
       " 've': 87339,\n",
       " 'vetted': 87633,\n",
       " 'over': 59057,\n",
       " 'their': 81731,\n",
       " 'lifetime': 46828,\n",
       " 'highly': 35939,\n",
       " 'respected': 68539,\n",
       " 'really': 66620,\n",
       " 'talented': 80410,\n",
       " 'what': 89614,\n",
       " 'critics': 18080,\n",
       " 'assailed': 4719,\n",
       " 'abruptly': 389,\n",
       " 'dismissing': 21982,\n",
       " 'leading': 45955,\n",
       " 'agency': 1461,\n",
       " 'alleged': 2308,\n",
       " 'ties': 82354,\n",
       " 'moscow': 53462,\n",
       " 'denies': 20420,\n",
       " 'claims': 14659,\n",
       " 'there': 81846,\n",
       " 'made': 48483,\n",
       " 'remarks': 67866,\n",
       " 'prior': 63973,\n",
       " 'liberty': 46700,\n",
       " 'university': 86052,\n",
       " 'did': 21308,\n",
       " 'mention': 51282,\n",
       " 'or': 58394,\n",
       " 'controversy': 16940,\n",
       " 'dismissal': 21977,\n",
       " 'tuesday': 84438,\n",
       " 'caused': 12742,\n",
       " 'public': 64752,\n",
       " 'event': 26360,\n",
       " 'outside': 58995,\n",
       " 'ouster': 58846,\n",
       " 'official': 57765,\n",
       " 'including': 38661,\n",
       " 'acting': 755,\n",
       " 'andrew': 3160,\n",
       " 'mccabe': 50424,\n",
       " 'york': 91665,\n",
       " 'appeals': 3813,\n",
       " 'court': 17603,\n",
       " 'judge': 42204,\n",
       " 'michael': 51630,\n",
       " 'garcia': 30875,\n",
       " 'former': 29551,\n",
       " 'assistant': 4814,\n",
       " 'attorney': 5135,\n",
       " 'general': 31274,\n",
       " 'alice': 2215,\n",
       " 'fisher': 28675,\n",
       " 'replace': 68155,\n",
       " 'chief': 13917,\n",
       " 'two': 84899,\n",
       " 'names': 54735,\n",
       " 'emerged': 24949,\n",
       " 'special': 76845,\n",
       " 'agent': 1469,\n",
       " 'adam': 816,\n",
       " 'lee': 46098,\n",
       " 'district': 22238,\n",
       " 'henry': 35587,\n",
       " 'hudson': 37153,\n",
       " 'source': 76636,\n",
       " 'familiar': 27450,\n",
       " 'jeff': 41281,\n",
       " 'sessions': 73382,\n",
       " 'deputy': 20648,\n",
       " 'rod': 69755,\n",
       " 'rosenstein': 70068,\n",
       " 'interviewed': 39881,\n",
       " 'five': 28734,\n",
       " 'others': 58783,\n",
       " 'agents': 1473,\n",
       " 'association': 4826,\n",
       " 'more': 53322,\n",
       " 'than': 81575,\n",
       " 'active': 768,\n",
       " 'retired': 68715,\n",
       " 'members': 51160,\n",
       " 'endorsed': 25252,\n",
       " 'another': 3461,\n",
       " 'representative': 68238,\n",
       " 'mike': 51857,\n",
       " 'rogers': 69816,\n",
       " 'also': 2512,\n",
       " 'worked': 90665,\n",
       " 'an': 3012,\n",
       " 'nation': 54958,\n",
       " 'largest': 45539,\n",
       " 'christian': 14236,\n",
       " 'college': 15537,\n",
       " 'peppered': 60934,\n",
       " 'kind': 43902,\n",
       " 'establishment': 26075,\n",
       " 'rhetoric': 69048,\n",
       " 'fueled': 30326,\n",
       " 'maverick': 50250,\n",
       " 'telling': 81168,\n",
       " 'graduates': 32797,\n",
       " 'challenge': 13305,\n",
       " 'entrenched': 25558,\n",
       " 'interests': 39738,\n",
       " 'thanked': 81582,\n",
       " 'crowd': 18178,\n",
       " 'support': 79451,\n",
       " 'repeatedly': 68126,\n",
       " 'invoked': 40094,\n",
       " 'own': 59355,\n",
       " 'unlikely': 86091,\n",
       " 'victory': 87739,\n",
       " 'relish': 67816,\n",
       " 'opportunity': 58321,\n",
       " 'outsider': 58996,\n",
       " 'broken': 10506,\n",
       " 'system': 80123,\n",
       " 'tells': 81171,\n",
       " 're': 66472,\n",
       " 'wrong': 90901,\n",
       " 'certain': 13126,\n",
       " 'must': 54317,\n",
       " 'keep': 43193,\n",
       " 'pushing': 65049,\n",
       " 'ahead': 1611,\n",
       " 'strong': 78638,\n",
       " 'words': 90649,\n",
       " 'seemed': 72869,\n",
       " 'aimed': 1709,\n",
       " 'ever': 26372,\n",
       " 'achieved': 654,\n",
       " 'anything': 3668,\n",
       " 'significant': 74803,\n",
       " 'without': 90380,\n",
       " 'chorus': 14169,\n",
       " 'standing': 77623,\n",
       " 'sidelines': 74686,\n",
       " 'explaining': 26828,\n",
       " 'why': 89864,\n",
       " 'can': 11871,\n",
       " 'done': 22746,\n",
       " 'easier': 23973,\n",
       " 'pathetic': 60303,\n",
       " 'being': 7336,\n",
       " 'critic': 18067,\n",
       " 'because': 7141,\n",
       " 'jerry': 41435,\n",
       " 'falwell': 27441,\n",
       " 'jr': 42136,\n",
       " 'key': 43483,\n",
       " 'early': 23922,\n",
       " 'supporter': 79454,\n",
       " 'helped': 35486,\n",
       " 'rally': 65987,\n",
       " 'among': 2922,\n",
       " 'religious': 67808,\n",
       " 'conservatives': 16608,\n",
       " 'preparing': 63639,\n",
       " 'take': 80349,\n",
       " 'middle': 51754,\n",
       " 'east': 23978,\n",
       " 'europe': 26249,\n",
       " 'deliver': 20184,\n",
       " 'coast': 15270,\n",
       " 'guard': 33473,\n",
       " 'academy': 492,\n",
       " 'london': 47588,\n",
       " 'connecticut': 16517,\n",
       " 'sean': 72663,\n",
       " 'hannity': 34488,\n",
       " 'showed': 74437,\n",
       " 'exactly': 26478,\n",
       " 'how': 37012,\n",
       " 'delusional': 20232,\n",
       " 'single': 75045,\n",
       " 'statement': 77749,\n",
       " 'butthurt': 11299,\n",
       " 'criticism': 18074,\n",
       " 'sudden': 79053,\n",
       " 'target': 80663,\n",
       " 'ire': 40214,\n",
       " 'respecting': 68543,\n",
       " 'family': 27456,\n",
       " 'despite': 20850,\n",
       " 'long': 47603,\n",
       " 'racist': 65683,\n",
       " 'hate': 34890,\n",
       " 'conspiracy': 16669,\n",
       " 'theories': 81817,\n",
       " 'shred': 74468,\n",
       " 'evidence': 26410,\n",
       " 'supporting': 79460,\n",
       " 'them': 81753,\n",
       " 'spewing': 76964,\n",
       " 'forth': 29595,\n",
       " 'mouthpieces': 53652,\n",
       " 'consider': 16621,\n",
       " 'comments': 15833,\n",
       " 'media': 50845,\n",
       " 'matters': 50148,\n",
       " 'nobody': 56387,\n",
       " 'picked': 61688,\n",
       " 'malia': 48964,\n",
       " 'sasha': 71649,\n",
       " 'conservative': 16604,\n",
       " 'michelle': 51671,\n",
       " 'obama': 57361,\n",
       " 'except': 26546,\n",
       " 'stupid': 78759,\n",
       " 'statements': 77752,\n",
       " 'my': 54440,\n",
       " 'adult': 1120,\n",
       " 'life': 46797,\n",
       " 'proud': 64536,\n",
       " 'country': 17549,\n",
       " 'she': 73906,\n",
       " 'inserted': 39414,\n",
       " 'herself': 35729,\n",
       " 'say': 71815,\n",
       " 'something': 76397,\n",
       " 'like': 46880,\n",
       " 'then': 81781,\n",
       " 'deserves': 20783,\n",
       " 'criticized': 18077,\n",
       " 'criticizing': 18079,\n",
       " 'out': 58851,\n",
       " 'sharing': 73810,\n",
       " 'fake': 27342,\n",
       " 'her': 35605,\n",
       " 'lying': 48255,\n",
       " 'website': 89208,\n",
       " 'gateway': 31018,\n",
       " 'pundit': 64901,\n",
       " 'offered': 57742,\n",
       " 'charter': 13547,\n",
       " 'plane': 62156,\n",
       " 'obamas': 57380,\n",
       " 'disappear': 21676,\n",
       " 'canada': 11875,\n",
       " 'kenya': 43363,\n",
       " 'indonesia': 38897,\n",
       " 'anywhere': 3672,\n",
       " 'come': 15711,\n",
       " 'back': 5780,\n",
       " 'shit': 74228,\n",
       " 'cakehole': 11597,\n",
       " 'damn': 18989,\n",
       " 'near': 55242,\n",
       " 'everywhere': 26396,\n",
       " 'god': 32247,\n",
       " 'motherfucking': 53528,\n",
       " 'hypocrite': 37572,\n",
       " 'saying': 71834,\n",
       " 'above': 350,\n",
       " 'list': 47131,\n",
       " 'tip': 82593,\n",
       " 'iceberg': 37683,\n",
       " 'term': 81345,\n",
       " 'everyone': 26392,\n",
       " 'compared': 15975,\n",
       " 'rob': 69607,\n",
       " 'kim': 43866,\n",
       " 'baaack': 5712,\n",
       " 'napolitano': 54803,\n",
       " 'fox': 29706,\n",
       " 'backing': 5816,\n",
       " 'down': 23000,\n",
       " 'spying': 77307,\n",
       " 'claim': 14654,\n",
       " 'previous': 63856,\n",
       " 'report': 68194,\n",
       " 'napolitan': 54802,\n",
       " 'friends': 30125,\n",
       " 'morning': 53381,\n",
       " 'discussing': 21842,\n",
       " 'administration': 1011,\n",
       " 'efforts': 24350,\n",
       " 'spy': 77304,\n",
       " 'three': 82136,\n",
       " 'intel': 39637,\n",
       " 'sources': 76639,\n",
       " 'disclosed': 21761,\n",
       " 'network': 55554,\n",
       " 'went': 89432,\n",
       " 'british': 10426,\n",
       " 'goods': 32465,\n",
       " 'may': 50298,\n",
       " 'never': 55621,\n",
       " 'prove': 64547,\n",
       " 'informed': 39123,\n",
       " 'chain': 13262,\n",
       " 'command': 15783,\n",
       " 'use': 86790,\n",
       " 'nsa': 56969,\n",
       " 'cia': 14399,\n",
       " 'department': 20518,\n",
       " 'justice': 42404,\n",
       " 'used': 86791,\n",
       " 'gchq': 31155,\n",
       " 'interesting': 39735,\n",
       " 'thing': 81970,\n",
       " 'resigned': 68474,\n",
       " 'unexpectedly': 85794,\n",
       " 'day': 19391,\n",
       " 'inauguration': 38563,\n",
       " 'hummm': 37283,\n",
       " 'judgenap': 42213,\n",
       " 'pres': 63662,\n",
       " 'turned': 84595,\n",
       " 'spies': 76996,\n",
       " 'surveillance': 79591,\n",
       " 'pic': 61671,\n",
       " 'twitter': 84764,\n",
       " 'com': 15666,\n",
       " 'foxandfriends': 29708,\n",
       " 'march': 49423,\n",
       " 'high': 35921,\n",
       " 'rollers': 69883,\n",
       " 'party': 60155,\n",
       " 'race': 65654,\n",
       " 'absolute': 406,\n",
       " 'nightmare': 56127,\n",
       " 'last': 45602,\n",
       " 'week': 89243,\n",
       " 'especially': 26008,\n",
       " 'horrible': 36815,\n",
       " 'unbelievably': 85361,\n",
       " 'despicable': 20844,\n",
       " 'fight': 28366,\n",
       " 'khans': 43602,\n",
       " 'muslim': 54302,\n",
       " 'parents': 59976,\n",
       " 'fallen': 27406,\n",
       " 'iraq': 40200,\n",
       " 'war': 88743,\n",
       " 'hero': 35698,\n",
       " 'continuous': 16859,\n",
       " 'deliberate': 20143,\n",
       " 'feuds': 28237,\n",
       " 'continued': 16854,\n",
       " 'flirtations': 29016,\n",
       " 'dictator': 21299,\n",
       " 'big': 8099,\n",
       " 'headache': 35090,\n",
       " 'trophy': 84014,\n",
       " 'wife': 89937,\n",
       " 'rode': 69761,\n",
       " 'escalator': 25945,\n",
       " 'bid': 8061,\n",
       " 'presidency': 63711,\n",
       " 'prominent': 64292,\n",
       " 'place': 62106,\n",
       " 'coming': 15769,\n",
       " 'woodwork': 90609,\n",
       " 'won': 90552,\n",
       " 'vote': 88299,\n",
       " 'some': 76382,\n",
       " 'hillary': 36005,\n",
       " 'clinton': 14961,\n",
       " 'order': 58452,\n",
       " 'put': 65074,\n",
       " 'save': 71759,\n",
       " 'number': 57083,\n",
       " 'higher': 35923,\n",
       " 'those': 82095,\n",
       " 'brave': 10024,\n",
       " 'folks': 29268,\n",
       " 'openly': 58250,\n",
       " 'denouncing': 20461,\n",
       " 'though': 82097,\n",
       " 'politico': 62669,\n",
       " 'conducted': 16316,\n",
       " 'anonymous': 3454,\n",
       " 'poll': 62727,\n",
       " 'insiders': 39431,\n",
       " 'shocking': 74276,\n",
       " 'only': 58156,\n",
       " 'horrified': 36822,\n",
       " 'rest': 68577,\n",
       " 'actually': 796,\n",
       " 'couple': 17579,\n",
       " 'express': 26893,\n",
       " 'fears': 27883,\n",
       " 'regarding': 67430,\n",
       " 'effects': 24323,\n",
       " 'rather': 66294,\n",
       " 'chances': 13359,\n",
       " 'nearly': 55249,\n",
       " 'anyone': 3665,\n",
       " 'else': 24812,\n",
       " 'continue': 16853,\n",
       " 'loser': 47753,\n",
       " 'likely': 46889,\n",
       " 'cost': 17397,\n",
       " 'senate': 73078,\n",
       " 'effect': 24317,\n",
       " 'having': 34970,\n",
       " 'ballot': 6166,\n",
       " 'races': 65658,\n",
       " 'potential': 63189,\n",
       " 'devastating': 21031,\n",
       " 'november': 56889,\n",
       " 'negative': 55334,\n",
       " 'hispanics': 36206,\n",
       " 'women': 90541,\n",
       " 'independents': 38796,\n",
       " 'divisive': 22338,\n",
       " 'hispanic': 36205,\n",
       " 'community': 15938,\n",
       " 'large': 45534,\n",
       " 'while': 89686,\n",
       " 'many': 49341,\n",
       " 'wish': 90316,\n",
       " 'would': 90764,\n",
       " 'leave': 46035,\n",
       " 'believe': 7407,\n",
       " 'goper': 32529,\n",
       " 'hampshire': 34331,\n",
       " 'sarcastic': 71591,\n",
       " 'reply': 68185,\n",
       " 'subject': 78854,\n",
       " 'lose': 47752,\n",
       " 'pounds': 63234,\n",
       " 'cut': 18664,\n",
       " 'shots': 74396,\n",
       " 'off': 57720,\n",
       " 'handicap': 34390,\n",
       " 'play': 62240,\n",
       " 'piano': 61666,\n",
       " 'worried': 90724,\n",
       " 'safety': 70957,\n",
       " 'dangerously': 19054,\n",
       " 'unqualified': 86228,\n",
       " 'patriotic': 60356,\n",
       " 'do': 22469,\n",
       " 'undermine': 85589,\n",
       " 'candidacy': 11915,\n",
       " 'team': 80949,\n",
       " 'try': 84317,\n",
       " 'again': 1431,\n",
       " 'someone': 76388,\n",
       " 'qualified': 65353,\n",
       " 'cannot': 11968,\n",
       " 'least': 46029,\n",
       " 'privacy': 64004,\n",
       " 'voting': 88319,\n",
       " 'booth': 9467,\n",
       " 'here': 35638,\n",
       " 'survived': 79609,\n",
       " 'll': 47316,\n",
       " 'survive': 79608,\n",
       " 'too': 82984,\n",
       " 'real': 66539,\n",
       " 'kicker': 43739,\n",
       " 'none': 56522,\n",
       " 'spencer': 76940,\n",
       " 'platt': 62228,\n",
       " 'seven': 73439,\n",
       " 'iranians': 40196,\n",
       " 'freed': 29960,\n",
       " 'prisoner': 63990,\n",
       " 'swap': 79769,\n",
       " 'returned': 68792,\n",
       " 'iran': 40189,\n",
       " 'century': 13082,\n",
       " 'wire': 90216,\n",
       " 'historic': 36222,\n",
       " 'international': 39792,\n",
       " 'iranian': 40194,\n",
       " 'nuclear': 57033,\n",
       " 'deal': 19509,\n",
       " 'punctuated': 64894,\n",
       " 'way': 89052,\n",
       " 'tehran': 81095,\n",
       " 'end': 25214,\n",
       " 'quite': 65552,\n",
       " 'expected': 26767,\n",
       " 'side': 74676,\n",
       " 'citizens': 14572,\n",
       " 'detained': 20913,\n",
       " 'nosratollah': 56755,\n",
       " 'khosravi': 43690,\n",
       " 'roodsari': 69968,\n",
       " 'stayed': 77826,\n",
       " 'held': 35420,\n",
       " 'prisons': 63994,\n",
       " 'show': 74426,\n",
       " 'flight': 28985,\n",
       " 'geneva': 31314,\n",
       " 'exchange': 26560,\n",
       " 'electing': 24585,\n",
       " 'stay': 77825,\n",
       " 'prisoners': 63991,\n",
       " 'released': 67761,\n",
       " 'making': 48874,\n",
       " 'germany': 31477,\n",
       " 'switzerland': 79936,\n",
       " 'robinson': 69664,\n",
       " 'daily': 18886,\n",
       " 'mailnone': 48732,\n",
       " 'home': 36553,\n",
       " 'still': 78148,\n",
       " 'reported': 68197,\n",
       " 'inmates': 39308,\n",
       " 'part': 60094,\n",
       " 'islamic': 40407,\n",
       " 'republic': 68297,\n",
       " 'set': 73387,\n",
       " 'sunday': 79273,\n",
       " 'decided': 19694,\n",
       " 'abc': 100,\n",
       " 'moving': 53679,\n",
       " 'families': 27455,\n",
       " 'other': 58779,\n",
       " 'four': 29687,\n",
       " 'americans': 2816,\n",
       " 'journalist': 42071,\n",
       " 'jason': 41086,\n",
       " 'rezaian': 69006,\n",
       " 'marine': 49578,\n",
       " 'amir': 2870,\n",
       " 'hekmati': 35418,\n",
       " 'pastor': 60249,\n",
       " 'saeed': 70932,\n",
       " 'abedini': 219,\n",
       " 'left': 46135,\n",
       " 'around': 4362,\n",
       " 'same': 71279,\n",
       " 'weren': 89446,\n",
       " 'met': 51459,\n",
       " 'counterparts': 17517,\n",
       " 'mail': 48703,\n",
       " 'onlineread': 58152,\n",
       " 'files': 28409,\n",
       " 'calm': 11738,\n",
       " 'north': 56693,\n",
       " 'korea': 44501,\n",
       " 'missile': 52461,\n",
       " 'test': 81443,\n",
       " 'provocative': 64584,\n",
       " 'act': 748,\n",
       " 'latest': 45641,\n",
       " 'korean': 44502,\n",
       " 'intercontinental': 39722,\n",
       " 'ballistic': 6158,\n",
       " 'icbm': 37677,\n",
       " 'calling': 11727,\n",
       " 'sides': 74691,\n",
       " 'involved': 40100,\n",
       " 'avoid': 5473,\n",
       " 'clash': 14732,\n",
       " 'tested': 81447,\n",
       " 'powerful': 63261,\n",
       " 'mainland': 48765,\n",
       " 'within': 90375,\n",
       " 'range': 66121,\n",
       " 'weapons': 89153,\n",
       " 'highest': 35924,\n",
       " 'longest': 47608,\n",
       " 'any': 3657,\n",
       " 'flown': 29127,\n",
       " 'landing': 45391,\n",
       " 'sea': 72627,\n",
       " 'japan': 41030,\n",
       " 'certainly': 13127,\n",
       " 'launch': 45708,\n",
       " 'provokes': 64589,\n",
       " 'further': 30497,\n",
       " 'growth': 33350,\n",
       " 'tension': 81297,\n",
       " 'moves': 53669,\n",
       " 'away': 5519,\n",
       " 'point': 62544,\n",
       " 'settlement': 73418,\n",
       " 'crisis': 18040,\n",
       " 'begin': 7274,\n",
       " 'spokesman': 77126,\n",
       " 'dmitry': 22431,\n",
       " 'peskov': 61260,\n",
       " 'conference': 16345,\n",
       " 'call': 11679,\n",
       " 'mid': 51744,\n",
       " 'september': 73242,\n",
       " 'came': 11793,\n",
       " 'countries': 17547,\n",
       " 'terrorism': 81406,\n",
       " 'allowing': 2393,\n",
       " 'impose': 38399,\n",
       " 'sanctions': 71350,\n",
       " 'options': 58381,\n",
       " 'military': 51964,\n",
       " 'ones': 58123,\n",
       " 'table': 80177,\n",
       " 'dealing': 19517,\n",
       " 'stressing': 78560,\n",
       " 'desire': 20814,\n",
       " 'peaceful': 60623,\n",
       " 'solution': 76354,\n",
       " 'diplomatic': 21596,\n",
       " 'remain': 67847,\n",
       " 'viable': 87663,\n",
       " 'open': 58241,\n",
       " 'secretary': 72768,\n",
       " 'state': 77728,\n",
       " 'rex': 68985,\n",
       " 'tillerson': 82413,\n",
       " 'condemning': 16269,\n",
       " 'hope': 36746,\n",
       " 'preserve': 63702,\n",
       " 'necessary': 55266,\n",
       " 'situation': 75193,\n",
       " 'peninsula': 60855,\n",
       " 'sliding': 75582,\n",
       " 'towards': 83225,\n",
       " 'worst': 90749,\n",
       " 'case': 12491,\n",
       " 'scenario': 71998,\n",
       " 'china': 13997,\n",
       " 'proposed': 64403,\n",
       " 'roadmap': 69578,\n",
       " 'defusing': 20011,\n",
       " 'region': 67463,\n",
       " 'ministry': 52159,\n",
       " 'repeated': 68125,\n",
       " 'offer': 57741,\n",
       " 'plan': 62154,\n",
       " 'stop': 78316,\n",
       " 'tests': 81465,\n",
       " 'urging': 86707,\n",
       " 'south': 76654,\n",
       " 'abstain': 423,\n",
       " 'unprecedentedly': 86200,\n",
       " 'scale': 71887,\n",
       " 'unscheduled': 86317,\n",
       " 'exercises': 26654,\n",
       " 'asked': 4652,\n",
       " 'believed': 7408,\n",
       " 'considered': 16627,\n",
       " 'leadership': 45951,\n",
       " 'let': 46442,\n",
       " 'grounds': 33308,\n",
       " 'substantial': 78949,\n",
       " 'optimism': 58369,\n",
       " 'kentucky': 43355,\n",
       " 'clerk': 14873,\n",
       " 'opposed': 58324,\n",
       " 'gay': 31093,\n",
       " 'marriage': 49741,\n",
       " 'run': 70555,\n",
       " 'louisville': 47812,\n",
       " 'ky': 45036,\n",
       " 'county': 17556,\n",
       " 'worldwide': 90716,\n",
       " 'attention': 5107,\n",
       " 'refusal': 67400,\n",
       " 'issue': 40504,\n",
       " 'licenses': 46741,\n",
       " 'couples': 17581,\n",
       " 'ago': 1540,\n",
       " 'next': 55874,\n",
       " 'year': 91430,\n",
       " 'rowan': 70243,\n",
       " 'davis': 19355,\n",
       " 'retain': 68678,\n",
       " 'seat': 72706,\n",
       " 'suggestions': 79115,\n",
       " 'local': 47414,\n",
       " 'statewide': 77769,\n",
       " 'position': 63042,\n",
       " 'mat': 50025,\n",
       " 'staver': 77816,\n",
       " 'founder': 29673,\n",
       " 'counsel': 17471,\n",
       " 'days': 19410,\n",
       " 'jail': 40841,\n",
       " 'refusing': 67406,\n",
       " 'following': 29280,\n",
       " 'supreme': 79489,\n",
       " 'legalizing': 46167,\n",
       " 'sex': 73480,\n",
       " 'claimed': 14657,\n",
       " 'against': 1434,\n",
       " 'apostolic': 3783,\n",
       " 'beliefs': 7402,\n",
       " 'organization': 58513,\n",
       " 'represented': 68241,\n",
       " 'resulting': 68642,\n",
       " 'lawsuit': 45848,\n",
       " 'filed': 28402,\n",
       " 'interested': 39734,\n",
       " 'month': 53193,\n",
       " 'traveled': 83630,\n",
       " 'romania': 69903,\n",
       " 'seek': 72859,\n",
       " 'referendum': 67275,\n",
       " 'fall': 27398,\n",
       " 'meet': 50954,\n",
       " 'leaders': 45950,\n",
       " 'hundreds': 37317,\n",
       " 'protesters': 64509,\n",
       " 'supporters': 79457,\n",
       " 'morehead': 53325,\n",
       " 'rural': 70599,\n",
       " 'eastern': 23986,\n",
       " 'huckabee': 37136,\n",
       " 'ted': 81044,\n",
       " 'cruz': 18291,\n",
       " 'visited': 88037,\n",
       " 'less': 46424,\n",
       " 'democrat': 20320,\n",
       " 'changed': 13378,\n",
       " 'affiliation': 1304,\n",
       " 'officials': 57770,\n",
       " 'reached': 66477,\n",
       " 'comment': 15821,\n",
       " 'served': 73342,\n",
       " 'mother': 53520,\n",
       " 'jean': 41244,\n",
       " 'bailey': 6002,\n",
       " 'decades': 19637,\n",
       " 'removed': 67927,\n",
       " 'clerks': 14875,\n",
       " 'license': 46737,\n",
       " 'form': 29529,\n",
       " 'later': 45638,\n",
       " 'ruled': 70512,\n",
       " 'law': 45802,\n",
       " 'suits': 79155,\n",
       " 'moot': 53276,\n",
       " 'attorneys': 5137,\n",
       " 'entitled': 25533,\n",
       " 'legal': 46155,\n",
       " 'fees': 27982,\n",
       " 'earliest': 23919,\n",
       " 'file': 28400,\n",
       " 'according': 579,\n",
       " 'immigration': 38203,\n",
       " 'judges': 42214,\n",
       " 'exempt': 26645,\n",
       " 'hiring': 36178,\n",
       " 'freeze': 30014,\n",
       " 'apply': 3867,\n",
       " 'exception': 26547,\n",
       " 'positions': 63046,\n",
       " 'needed': 55301,\n",
       " 'national': 54959,\n",
       " 'security': 72807,\n",
       " 'executive': 26630,\n",
       " 'review': 68891,\n",
       " 'called': 11690,\n",
       " 'faster': 27652,\n",
       " 'removal': 67923,\n",
       " ...}"
      ]
     },
     "execution_count": 29,
     "metadata": {},
     "output_type": "execute_result"
    }
   ],
   "source": [
    "vectorization = TfidfVectorizer()\n",
    "cv_train = vectorization.fit(X_train)\n",
    "cv_train.vocabulary_"
   ]
  },
  {
   "cell_type": "markdown",
   "metadata": {},
   "source": [
    "- TfidfVectorizer 를 통해서 어휘의 빈도수를 구해주고 각각의 단어에 대해 벡터를 만들어준다."
   ]
  },
  {
   "cell_type": "code",
   "execution_count": 30,
   "metadata": {},
   "outputs": [
    {
     "name": "stdout",
     "output_type": "stream",
     "text": [
      "Train shape:  (31428, 92977)\n",
      "Test shape:  (13470, 92977)\n"
     ]
    }
   ],
   "source": [
    "X_train,X_test,y_train,y_test = train_test_split(data['text'],data['target'],test_size=0.3)\n",
    "\n",
    "vectorization = TfidfVectorizer()\n",
    "cv_train = vectorization.fit_transform(X_train)\n",
    "cv_test = vectorization.transform(X_test)\n",
    "\n",
    "print('Train shape: ',cv_train.shape)\n",
    "print('Test shape: ',cv_test.shape)"
   ]
  },
  {
   "cell_type": "code",
   "execution_count": 31,
   "metadata": {},
   "outputs": [
    {
     "name": "stdout",
     "output_type": "stream",
     "text": [
      "Accuracy Score:  0.9378619153674833\n"
     ]
    }
   ],
   "source": [
    "from sklearn.naive_bayes import MultinomialNB\n",
    "from sklearn.metrics import accuracy_score\n",
    "\n",
    "\n",
    "nb = MultinomialNB()\n",
    "nb.fit(cv_train, y_train)\n",
    "pred_nb = nb.predict(cv_test)\n",
    "score = accuracy_score(y_test, pred_nb)\n",
    "print(\"Accuracy Score: \",score)"
   ]
  },
  {
   "cell_type": "markdown",
   "metadata": {},
   "source": [
    "- 간단한 Multinomial Naive Bayes를 사용하여 정확도를 구했더니 93%정도가 나왔다."
   ]
  },
  {
   "cell_type": "markdown",
   "metadata": {},
   "source": [
    "### Preprocessing"
   ]
  },
  {
   "cell_type": "markdown",
   "metadata": {},
   "source": [
    "기존 kaggle 코드에서 데이터 전처리 부분을 수정할 필요가 있다.\n",
    "\n",
    "모델도 GPT로 변경하여 다시 진행해야겠다.\n",
    "\n",
    "문맥 보존을 위해서 문단 전체를 Vectorize 하는 방법을 추천\n",
    "\n",
    "**Fake news classification-BERT & RoBERTa:** \n",
    "https://www.kaggle.com/code/jaskaransingh/fake-news-classification-bert-roberta"
   ]
  },
  {
   "cell_type": "code",
   "execution_count": 32,
   "metadata": {},
   "outputs": [],
   "source": [
    "sentences = data['text'].values\n",
    "labels = data['target'].values"
   ]
  },
  {
   "cell_type": "markdown",
   "metadata": {},
   "source": [
    "- text, target을 값만 복사해서 저장한다.\n",
    "\n",
    "- 이미 훈련된 모델을 가져온다.\n",
    "\n",
    "`BertForSequenceClassification.from_pretrained` :BERT model\n",
    "`BertTokenizer.from_pretrained` : BERT Tokenizer → `[UNK]` token 사용"
   ]
  },
  {
   "cell_type": "markdown",
   "metadata": {},
   "source": [
    "# Referance"
   ]
  },
  {
   "cell_type": "markdown",
   "metadata": {},
   "source": [
    "Stopwords: https://wikidocs.net/22530\n",
    "\n",
    "PortereStemmer: https://jaaamj.tistory.com/78\n",
    "\n",
    "정규표현식: https://velog.io/@yoopark/r-prefix-in-regexp, https://blog.eomdev.com/java/2016/03/31/regExp.html\n",
    "\n",
    "RegexpTokenizer: https://wikidocs.net/21703"
   ]
  }
 ],
 "metadata": {
  "kernelspec": {
   "display_name": "base",
   "language": "python",
   "name": "python3"
  },
  "language_info": {
   "codemirror_mode": {
    "name": "ipython",
    "version": 3
   },
   "file_extension": ".py",
   "mimetype": "text/x-python",
   "name": "python",
   "nbconvert_exporter": "python",
   "pygments_lexer": "ipython3",
   "version": "3.9.7"
  }
 },
 "nbformat": 4,
 "nbformat_minor": 2
}
